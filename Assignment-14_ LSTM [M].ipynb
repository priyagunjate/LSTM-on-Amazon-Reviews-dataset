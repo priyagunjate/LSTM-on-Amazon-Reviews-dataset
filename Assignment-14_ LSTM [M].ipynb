{
 "cells": [
  {
   "cell_type": "markdown",
   "metadata": {
    "colab_type": "text",
    "id": "LZC7emNTpYya"
   },
   "source": [
    "# Assignment14: LSTM"
   ]
  },
  {
   "cell_type": "markdown",
   "metadata": {
    "colab_type": "text",
    "id": "k2E0lXaUp6pf"
   },
   "source": [
    "LSTM model on Amazon Fine Food Reviews\n",
    "\n",
    "### Objective:\n",
    " * Apply LSTM model with different architectures & number of layers on Amazon food reviews.\n",
    " * Plots Traing and testing error plot."
   ]
  },
  {
   "cell_type": "code",
   "execution_count": 0,
   "metadata": {
    "colab": {},
    "colab_type": "code",
    "id": "iLmy9i6kpX-W"
   },
   "outputs": [],
   "source": [
    "import warnings\n",
    "warnings.filterwarnings(\"ignore\")"
   ]
  },
  {
   "cell_type": "code",
   "execution_count": 0,
   "metadata": {
    "colab": {},
    "colab_type": "code",
    "id": "LMS8t6as8r8l"
   },
   "outputs": [],
   "source": [
    "%matplotlib inline\n",
    "import re\n",
    "from datetime import datetime\n",
    "import math\n",
    "import pandas as pd\n",
    "import numpy as np\n",
    "import nltk\n",
    "import string\n",
    "import pickle \n",
    "import matplotlib.pyplot as plt\n",
    "\n",
    "import seaborn as sns\n",
    "\n",
    "from sklearn.feature_extraction.text import CountVectorizer\n",
    "from nltk.stem.porter import PorterStemmer\n",
    "\n",
    "\n",
    "from nltk.corpus import stopwords\n",
    "from nltk.stem import PorterStemmer\n",
    "from nltk.stem.wordnet import WordNetLemmatizer\n",
    "\n",
    "from gensim.models import Word2Vec\n",
    "from gensim.models import KeyedVectors\n",
    "                                                               "
   ]
  },
  {
   "cell_type": "code",
   "execution_count": 0,
   "metadata": {
    "colab": {
     "base_uri": "https://localhost:8080/",
     "height": 35
    },
    "colab_type": "code",
    "executionInfo": {
     "elapsed": 3926,
     "status": "ok",
     "timestamp": 1549342328044,
     "user": {
      "displayName": "Priya G",
      "photoUrl": "https://lh5.googleusercontent.com/-ulFA1q-SBEw/AAAAAAAAAAI/AAAAAAAAAaU/81PbAjtRvqw/s64/photo.jpg",
      "userId": "05458747731883366595"
     },
     "user_tz": -330
    },
    "id": "4HEXSrwjJJbV",
    "outputId": "7b441e1d-8d1f-43e1-a019-9523fee9856c"
   },
   "outputs": [
    {
     "name": "stderr",
     "output_type": "stream",
     "text": [
      "Using TensorFlow backend.\n"
     ]
    }
   ],
   "source": [
    "# Importing libraries\n",
    "from keras.models import Sequential\n",
    "from keras.layers import Dense\n",
    "from keras.layers import LSTM\n",
    "from keras.layers.embeddings import Embedding\n",
    "from keras.preprocessing import sequence\n",
    "from keras.layers import Dropout\n",
    "# fix random seed for reproducibility\n",
    "np.random.seed(7)"
   ]
  },
  {
   "cell_type": "code",
   "execution_count": 0,
   "metadata": {
    "colab": {},
    "colab_type": "code",
    "id": "1eEsMBdBJlXk"
   },
   "outputs": [],
   "source": [
    "%matplotlib inline\n",
    "import matplotlib.pyplot as plt\n",
    "import numpy as np\n",
    "import time\n",
    "# https://gist.github.com/greydanus/f6eee59eaf1d90fcb3b534a25362cea4\n",
    "# https://stackoverflow.com/a/14434334\n",
    "# this function is used to update the plots for each epoch and error\n",
    "def plt_dynamic(x, vy, ty):\n",
    "  fig = plt.figure( facecolor='c', edgecolor='k')\n",
    "  plt.plot(x, vy, 'b', label=\"Validation Loss\")\n",
    "  plt.plot(x, ty, 'r', label=\"Train Loss\")\n",
    "  plt.xlabel('Epochs') \n",
    "  plt.ylabel('Categorical Crossentropy Loss')\n",
    "  plt.legend()\n",
    "  plt.grid()\n",
    "  plt.show()"
   ]
  },
  {
   "cell_type": "markdown",
   "metadata": {
    "colab_type": "text",
    "id": "Fn3F8y5IA_uy"
   },
   "source": [
    "### To upload the reviews.zip file from system to google colab"
   ]
  },
  {
   "cell_type": "code",
   "execution_count": 0,
   "metadata": {
    "colab": {
     "base_uri": "https://localhost:8080/",
     "height": 52
    },
    "colab_type": "code",
    "executionInfo": {
     "elapsed": 39741,
     "status": "ok",
     "timestamp": 1549342363891,
     "user": {
      "displayName": "Priya G",
      "photoUrl": "https://lh5.googleusercontent.com/-ulFA1q-SBEw/AAAAAAAAAAI/AAAAAAAAAaU/81PbAjtRvqw/s64/photo.jpg",
      "userId": "05458747731883366595"
     },
     "user_tz": -330
    },
    "id": "3mYn_D1wBotj",
    "outputId": "507b157c-63df-4d40-dc7f-1abe8d490c84"
   },
   "outputs": [
    {
     "name": "stdout",
     "output_type": "stream",
     "text": [
      "\u001b[?25l\r",
      "\u001b[K    1% |▎                               | 10kB 17.8MB/s eta 0:00:01\r",
      "\u001b[K    2% |▋                               | 20kB 3.3MB/s eta 0:00:01\r",
      "\u001b[K    3% |█                               | 30kB 4.6MB/s eta 0:00:01\r",
      "\u001b[K    4% |█▎                              | 40kB 3.0MB/s eta 0:00:01\r",
      "\u001b[K    5% |█▋                              | 51kB 3.7MB/s eta 0:00:01\r",
      "\u001b[K    6% |██                              | 61kB 4.3MB/s eta 0:00:01\r",
      "\u001b[K    7% |██▎                             | 71kB 5.0MB/s eta 0:00:01\r",
      "\u001b[K    8% |██▋                             | 81kB 5.6MB/s eta 0:00:01\r",
      "\u001b[K    9% |███                             | 92kB 6.3MB/s eta 0:00:01\r",
      "\u001b[K    10% |███▎                            | 102kB 4.8MB/s eta 0:00:01\r",
      "\u001b[K    11% |███▋                            | 112kB 4.9MB/s eta 0:00:01\r",
      "\u001b[K    12% |████                            | 122kB 6.6MB/s eta 0:00:01\r",
      "\u001b[K    13% |████▎                           | 133kB 6.6MB/s eta 0:00:01\r",
      "\u001b[K    14% |████▋                           | 143kB 11.9MB/s eta 0:00:01\r",
      "\u001b[K    15% |█████                           | 153kB 12.1MB/s eta 0:00:01\r",
      "\u001b[K    16% |█████▎                          | 163kB 12.2MB/s eta 0:00:01\r",
      "\u001b[K    17% |█████▋                          | 174kB 11.9MB/s eta 0:00:01\r",
      "\u001b[K    18% |██████                          | 184kB 11.9MB/s eta 0:00:01\r",
      "\u001b[K    19% |██████▎                         | 194kB 12.0MB/s eta 0:00:01\r",
      "\u001b[K    20% |██████▋                         | 204kB 41.2MB/s eta 0:00:01\r",
      "\u001b[K    21% |███████                         | 215kB 14.3MB/s eta 0:00:01\r",
      "\u001b[K    22% |███████▎                        | 225kB 14.2MB/s eta 0:00:01\r",
      "\u001b[K    23% |███████▋                        | 235kB 14.5MB/s eta 0:00:01\r",
      "\u001b[K    24% |████████                        | 245kB 14.5MB/s eta 0:00:01\r",
      "\u001b[K    25% |████████▎                       | 256kB 14.5MB/s eta 0:00:01\r",
      "\u001b[K    26% |████████▋                       | 266kB 13.7MB/s eta 0:00:01\r",
      "\u001b[K    27% |█████████                       | 276kB 14.2MB/s eta 0:00:01\r",
      "\u001b[K    29% |█████████▎                      | 286kB 14.2MB/s eta 0:00:01\r",
      "\u001b[K    30% |█████████▋                      | 296kB 14.2MB/s eta 0:00:01\r",
      "\u001b[K    31% |██████████                      | 307kB 14.6MB/s eta 0:00:01\r",
      "\u001b[K    32% |██████████▎                     | 317kB 49.2MB/s eta 0:00:01\r",
      "\u001b[K    33% |██████████▋                     | 327kB 51.9MB/s eta 0:00:01\r",
      "\u001b[K    34% |███████████                     | 337kB 53.3MB/s eta 0:00:01\r",
      "\u001b[K    35% |███████████▎                    | 348kB 46.9MB/s eta 0:00:01\r",
      "\u001b[K    36% |███████████▋                    | 358kB 46.4MB/s eta 0:00:01\r",
      "\u001b[K    37% |████████████                    | 368kB 56.9MB/s eta 0:00:01\r",
      "\u001b[K    38% |████████████▎                   | 378kB 58.5MB/s eta 0:00:01\r",
      "\u001b[K    39% |████████████▋                   | 389kB 58.6MB/s eta 0:00:01\r",
      "\u001b[K    40% |█████████████                   | 399kB 58.2MB/s eta 0:00:01\r",
      "\u001b[K    41% |█████████████▎                  | 409kB 57.8MB/s eta 0:00:01\r",
      "\u001b[K    42% |█████████████▋                  | 419kB 58.3MB/s eta 0:00:01\r",
      "\u001b[K    43% |██████████████                  | 430kB 58.6MB/s eta 0:00:01\r",
      "\u001b[K    44% |██████████████▎                 | 440kB 19.5MB/s eta 0:00:01\r",
      "\u001b[K    45% |██████████████▋                 | 450kB 19.5MB/s eta 0:00:01\r",
      "\u001b[K    46% |███████████████                 | 460kB 19.1MB/s eta 0:00:01\r",
      "\u001b[K    47% |███████████████▎                | 471kB 18.6MB/s eta 0:00:01\r",
      "\u001b[K    48% |███████████████▋                | 481kB 18.5MB/s eta 0:00:01\r",
      "\u001b[K    49% |████████████████                | 491kB 18.4MB/s eta 0:00:01\r",
      "\u001b[K    50% |████████████████▎               | 501kB 18.5MB/s eta 0:00:01\r",
      "\u001b[K    51% |████████████████▋               | 512kB 17.7MB/s eta 0:00:01\r",
      "\u001b[K    52% |█████████████████               | 522kB 17.6MB/s eta 0:00:01\r",
      "\u001b[K    53% |█████████████████▎              | 532kB 17.6MB/s eta 0:00:01\r",
      "\u001b[K    54% |█████████████████▋              | 542kB 45.0MB/s eta 0:00:01\r",
      "\u001b[K    55% |██████████████████              | 552kB 52.4MB/s eta 0:00:01\r",
      "\u001b[K    57% |██████████████████▎             | 563kB 56.3MB/s eta 0:00:01\r",
      "\u001b[K    58% |██████████████████▋             | 573kB 59.0MB/s eta 0:00:01\r",
      "\u001b[K    59% |███████████████████             | 583kB 60.5MB/s eta 0:00:01\r",
      "\u001b[K    60% |███████████████████▎            | 593kB 61.5MB/s eta 0:00:01\r",
      "\u001b[K    61% |███████████████████▋            | 604kB 61.6MB/s eta 0:00:01\r",
      "\u001b[K    62% |████████████████████            | 614kB 73.7MB/s eta 0:00:01\r",
      "\u001b[K    63% |████████████████████▎           | 624kB 75.5MB/s eta 0:00:01\r",
      "\u001b[K    64% |████████████████████▋           | 634kB 75.6MB/s eta 0:00:01\r",
      "\u001b[K    65% |█████████████████████           | 645kB 74.1MB/s eta 0:00:01\r",
      "\u001b[K    66% |█████████████████████▎          | 655kB 72.8MB/s eta 0:00:01\r",
      "\u001b[K    67% |█████████████████████▋          | 665kB 50.6MB/s eta 0:00:01\r",
      "\u001b[K    68% |██████████████████████          | 675kB 49.9MB/s eta 0:00:01\r",
      "\u001b[K    69% |██████████████████████▎         | 686kB 48.1MB/s eta 0:00:01\r",
      "\u001b[K    70% |██████████████████████▋         | 696kB 48.2MB/s eta 0:00:01\r",
      "\u001b[K    71% |███████████████████████         | 706kB 48.2MB/s eta 0:00:01\r",
      "\u001b[K    72% |███████████████████████▎        | 716kB 48.1MB/s eta 0:00:01\r",
      "\u001b[K    73% |███████████████████████▋        | 727kB 48.1MB/s eta 0:00:01\r",
      "\u001b[K    74% |████████████████████████        | 737kB 46.9MB/s eta 0:00:01\r",
      "\u001b[K    75% |████████████████████████▎       | 747kB 47.6MB/s eta 0:00:01\r",
      "\u001b[K    76% |████████████████████████▋       | 757kB 28.1MB/s eta 0:00:01\r",
      "\u001b[K    77% |████████████████████████▉       | 768kB 32.5MB/s eta 0:00:01\r",
      "\u001b[K    78% |█████████████████████████▏      | 778kB 32.5MB/s eta 0:00:01\r",
      "\u001b[K    79% |█████████████████████████▌      | 788kB 33.2MB/s eta 0:00:01\r",
      "\u001b[K    80% |█████████████████████████▉      | 798kB 33.1MB/s eta 0:00:01\r",
      "\u001b[K    81% |██████████████████████████▏     | 808kB 33.1MB/s eta 0:00:01\r",
      "\u001b[K    82% |██████████████████████████▌     | 819kB 32.3MB/s eta 0:00:01\r",
      "\u001b[K    83% |██████████████████████████▉     | 829kB 30.4MB/s eta 0:00:01\r",
      "\u001b[K    85% |███████████████████████████▏    | 839kB 30.2MB/s eta 0:00:01\r",
      "\u001b[K    86% |███████████████████████████▌    | 849kB 29.5MB/s eta 0:00:01\r",
      "\u001b[K    87% |███████████████████████████▉    | 860kB 44.4MB/s eta 0:00:01\r",
      "\u001b[K    88% |████████████████████████████▏   | 870kB 46.2MB/s eta 0:00:01\r",
      "\u001b[K    89% |████████████████████████████▌   | 880kB 47.8MB/s eta 0:00:01\r",
      "\u001b[K    90% |████████████████████████████▉   | 890kB 48.6MB/s eta 0:00:01\r",
      "\u001b[K    91% |█████████████████████████████▏  | 901kB 48.6MB/s eta 0:00:01\r",
      "\u001b[K    92% |█████████████████████████████▌  | 911kB 49.0MB/s eta 0:00:01\r",
      "\u001b[K    93% |█████████████████████████████▉  | 921kB 50.8MB/s eta 0:00:01\r",
      "\u001b[K    94% |██████████████████████████████▏ | 931kB 55.2MB/s eta 0:00:01\r",
      "\u001b[K    95% |██████████████████████████████▌ | 942kB 57.6MB/s eta 0:00:01\r",
      "\u001b[K    96% |██████████████████████████████▉ | 952kB 60.1MB/s eta 0:00:01\r",
      "\u001b[K    97% |███████████████████████████████▏| 962kB 76.2MB/s eta 0:00:01\r",
      "\u001b[K    98% |███████████████████████████████▌| 972kB 78.6MB/s eta 0:00:01\r",
      "\u001b[K    99% |███████████████████████████████▉| 983kB 78.5MB/s eta 0:00:01\r",
      "\u001b[K    100% |████████████████████████████████| 993kB 19.7MB/s \n",
      "\u001b[?25h  Building wheel for PyDrive (setup.py) ... \u001b[?25ldone\n",
      "\u001b[?25h"
     ]
    }
   ],
   "source": [
    "# Reference link \n",
    "# https://towardsdatascience.com/3-ways-to-load-csv-files-into-colab-7c14fcbdcb92\n",
    "# Code to read csv file into Colaboratory:\n",
    "!pip install -U -q PyDrive\n",
    "from pydrive.auth import GoogleAuth\n",
    "from pydrive.drive import GoogleDrive\n",
    "from google.colab import auth\n",
    "from oauth2client.client import GoogleCredentials\n",
    "# Authenticate and create the PyDrive client.\n",
    "auth.authenticate_user()\n",
    "gauth = GoogleAuth()\n",
    "gauth.credentials = GoogleCredentials.get_application_default()\n",
    "drive = GoogleDrive(gauth)"
   ]
  },
  {
   "cell_type": "code",
   "execution_count": 0,
   "metadata": {
    "colab": {},
    "colab_type": "code",
    "id": "IhFXEcYBs7ti"
   },
   "outputs": [],
   "source": [
    "link = 'https://drive.google.com/file/d/1p5YpkUos0Rd6Hsae1qaH0VsPtnLdlnc0/view?usp=sharing'"
   ]
  },
  {
   "cell_type": "code",
   "execution_count": 0,
   "metadata": {
    "colab": {
     "base_uri": "https://localhost:8080/",
     "height": 35
    },
    "colab_type": "code",
    "executionInfo": {
     "elapsed": 915,
     "status": "ok",
     "timestamp": 1549342368549,
     "user": {
      "displayName": "Priya G",
      "photoUrl": "https://lh5.googleusercontent.com/-ulFA1q-SBEw/AAAAAAAAAAI/AAAAAAAAAaU/81PbAjtRvqw/s64/photo.jpg",
      "userId": "05458747731883366595"
     },
     "user_tz": -330
    },
    "id": "V0ARUAJ5t1f3",
    "outputId": "ca8275ef-e79a-4bbb-87f4-733e1e655459"
   },
   "outputs": [
    {
     "name": "stdout",
     "output_type": "stream",
     "text": [
      "1p5YpkUos0Rd6Hsae1qaH0VsPtnLdlnc0\n"
     ]
    }
   ],
   "source": [
    "fluff, id = link.split('=')\n",
    "id='1p5YpkUos0Rd6Hsae1qaH0VsPtnLdlnc0'\n",
    "print (id)"
   ]
  },
  {
   "cell_type": "code",
   "execution_count": 0,
   "metadata": {
    "colab": {},
    "colab_type": "code",
    "id": "eKjwqceCt_Rr"
   },
   "outputs": [],
   "source": [
    " downloaded = drive.CreateFile({'id':id}) \n",
    "downloaded.GetContentFile('Reviews.csv')  \n"
   ]
  },
  {
   "cell_type": "code",
   "execution_count": 0,
   "metadata": {
    "colab": {
     "base_uri": "https://localhost:8080/",
     "height": 107
    },
    "colab_type": "code",
    "executionInfo": {
     "elapsed": 9125,
     "status": "ok",
     "timestamp": 1549342378447,
     "user": {
      "displayName": "Priya G",
      "photoUrl": "https://lh5.googleusercontent.com/-ulFA1q-SBEw/AAAAAAAAAAI/AAAAAAAAAaU/81PbAjtRvqw/s64/photo.jpg",
      "userId": "05458747731883366595"
     },
     "user_tz": -330
    },
    "id": "kK4zFdlQBzcc",
    "outputId": "ac8f29fe-819e-4c1c-a732-3a04f7d05e6e"
   },
   "outputs": [
    {
     "name": "stdout",
     "output_type": "stream",
     "text": [
      "(568454, 10)\n",
      "Index(['Id', 'ProductId', 'UserId', 'ProfileName', 'HelpfulnessNumerator',\n",
      "       'HelpfulnessDenominator', 'Score', 'Time', 'Summary', 'Text'],\n",
      "      dtype='object')\n"
     ]
    }
   ],
   "source": [
    "amz = pd.read_csv('Reviews.csv')\n",
    "# dimensions of dataset and columns name\n",
    "print(amz.shape) \n",
    "#print(amz1.shape)\n",
    "print(amz.columns)"
   ]
  },
  {
   "cell_type": "markdown",
   "metadata": {
    "colab_type": "text",
    "id": "3_T8-PwpSvXa"
   },
   "source": [
    "Given reviews with Score>3 a positive rating, and reviews with a score<3 a negative rating. If score is equal to 3,it is considered as neutral score."
   ]
  },
  {
   "cell_type": "code",
   "execution_count": 0,
   "metadata": {
    "colab": {},
    "colab_type": "code",
    "id": "04_BQptDStkZ"
   },
   "outputs": [],
   "source": [
    "# Processing\n",
    "#Give reviews with Score>3 a positive rating, and reviews with a score<3 a negative rating.\n",
    "\n",
    "def score_part(x):\n",
    "    if x < 3:\n",
    "        return 0\n",
    "    return 1\n",
    "\n",
    "actualScore = amz['Score']\n",
    "#print(actualScore)\n",
    "New_score = actualScore.map(score_part)\n",
    "#print(New_score)\n",
    "amz['Score']=New_score"
   ]
  },
  {
   "cell_type": "code",
   "execution_count": 0,
   "metadata": {
    "colab": {},
    "colab_type": "code",
    "id": "RbKFbXcmt0LH"
   },
   "outputs": [],
   "source": []
  },
  {
   "cell_type": "code",
   "execution_count": 0,
   "metadata": {
    "colab": {
     "base_uri": "https://localhost:8080/",
     "height": 355
    },
    "colab_type": "code",
    "executionInfo": {
     "elapsed": 3779,
     "status": "ok",
     "timestamp": 1549342378454,
     "user": {
      "displayName": "Priya G",
      "photoUrl": "https://lh5.googleusercontent.com/-ulFA1q-SBEw/AAAAAAAAAAI/AAAAAAAAAaU/81PbAjtRvqw/s64/photo.jpg",
      "userId": "05458747731883366595"
     },
     "user_tz": -330
    },
    "id": "1eWvsJdWB2UT",
    "outputId": "ad5f35a1-5852-490d-f604-de4bd6e0f24f"
   },
   "outputs": [
    {
     "name": "stdout",
     "output_type": "stream",
     "text": [
      "(568454, 10)\n"
     ]
    },
    {
     "data": {
      "text/html": [
       "<div>\n",
       "<style scoped>\n",
       "    .dataframe tbody tr th:only-of-type {\n",
       "        vertical-align: middle;\n",
       "    }\n",
       "\n",
       "    .dataframe tbody tr th {\n",
       "        vertical-align: top;\n",
       "    }\n",
       "\n",
       "    .dataframe thead th {\n",
       "        text-align: right;\n",
       "    }\n",
       "</style>\n",
       "<table border=\"1\" class=\"dataframe\">\n",
       "  <thead>\n",
       "    <tr style=\"text-align: right;\">\n",
       "      <th></th>\n",
       "      <th>Id</th>\n",
       "      <th>ProductId</th>\n",
       "      <th>UserId</th>\n",
       "      <th>ProfileName</th>\n",
       "      <th>HelpfulnessNumerator</th>\n",
       "      <th>HelpfulnessDenominator</th>\n",
       "      <th>Score</th>\n",
       "      <th>Time</th>\n",
       "      <th>Summary</th>\n",
       "      <th>Text</th>\n",
       "    </tr>\n",
       "  </thead>\n",
       "  <tbody>\n",
       "    <tr>\n",
       "      <th>0</th>\n",
       "      <td>1</td>\n",
       "      <td>B001E4KFG0</td>\n",
       "      <td>A3SGXH7AUHU8GW</td>\n",
       "      <td>delmartian</td>\n",
       "      <td>1</td>\n",
       "      <td>1</td>\n",
       "      <td>1</td>\n",
       "      <td>1303862400</td>\n",
       "      <td>Good Quality Dog Food</td>\n",
       "      <td>I have bought several of the Vitality canned d...</td>\n",
       "    </tr>\n",
       "    <tr>\n",
       "      <th>1</th>\n",
       "      <td>2</td>\n",
       "      <td>B00813GRG4</td>\n",
       "      <td>A1D87F6ZCVE5NK</td>\n",
       "      <td>dll pa</td>\n",
       "      <td>0</td>\n",
       "      <td>0</td>\n",
       "      <td>0</td>\n",
       "      <td>1346976000</td>\n",
       "      <td>Not as Advertised</td>\n",
       "      <td>Product arrived labeled as Jumbo Salted Peanut...</td>\n",
       "    </tr>\n",
       "  </tbody>\n",
       "</table>\n",
       "</div>"
      ],
      "text/plain": [
       "   Id   ProductId          UserId ProfileName  HelpfulnessNumerator  \\\n",
       "0   1  B001E4KFG0  A3SGXH7AUHU8GW  delmartian                     1   \n",
       "1   2  B00813GRG4  A1D87F6ZCVE5NK      dll pa                     0   \n",
       "\n",
       "   HelpfulnessDenominator  Score        Time                Summary  \\\n",
       "0                       1      1  1303862400  Good Quality Dog Food   \n",
       "1                       0      0  1346976000      Not as Advertised   \n",
       "\n",
       "                                                Text  \n",
       "0  I have bought several of the Vitality canned d...  \n",
       "1  Product arrived labeled as Jumbo Salted Peanut...  "
      ]
     },
     "execution_count": 11,
     "metadata": {
      "tags": []
     },
     "output_type": "execute_result"
    }
   ],
   "source": [
    "print(amz.shape)\n",
    "amz.head(2)\n"
   ]
  },
  {
   "cell_type": "markdown",
   "metadata": {
    "colab_type": "text",
    "id": "JXte3foUB5_t"
   },
   "source": [
    "#### Data Pre-processing on raw data:\n",
    "\n",
    "Every datasets contains some unwanted data.Raw data is preprocessed by removing duplication.\n"
   ]
  },
  {
   "cell_type": "code",
   "execution_count": 0,
   "metadata": {
    "colab": {
     "base_uri": "https://localhost:8080/",
     "height": 384
    },
    "colab_type": "code",
    "executionInfo": {
     "elapsed": 4534,
     "status": "ok",
     "timestamp": 1549342383481,
     "user": {
      "displayName": "Priya G",
      "photoUrl": "https://lh5.googleusercontent.com/-ulFA1q-SBEw/AAAAAAAAAAI/AAAAAAAAAaU/81PbAjtRvqw/s64/photo.jpg",
      "userId": "05458747731883366595"
     },
     "user_tz": -330
    },
    "id": "jOLXSeg-B6tW",
    "outputId": "f66ec050-1327-4f5b-fc09-034c7b65f527"
   },
   "outputs": [
    {
     "name": "stdout",
     "output_type": "stream",
     "text": [
      "            Id   ProductId         UserId  \\\n",
      "171222  171223  7310172001  AJD41FBJD9010   \n",
      "171153  171154  7310172001  AJD41FBJD9010   \n",
      "\n",
      "                                         ProfileName  HelpfulnessNumerator  \\\n",
      "171222  N. Ferguson \"Two, Daisy, Hannah, and Kitten\"                     1   \n",
      "171153  N. Ferguson \"Two, Daisy, Hannah, and Kitten\"                     0   \n",
      "\n",
      "        HelpfulnessDenominator  Score        Time  \\\n",
      "171222                       1      1  1233360000   \n",
      "171153                       0      1  1233360000   \n",
      "\n",
      "                                                  Summary  \\\n",
      "171222  best dog treat-- great for training---  all do...   \n",
      "171153  best dog treat-- great for training---  all do...   \n",
      "\n",
      "                                                     Text  \n",
      "171222  Freeze dried liver has a hypnotic effect on do...  \n",
      "171153  Freeze dried liver has a hypnotic effect on do...  \n",
      "(393931, 10)\n"
     ]
    }
   ],
   "source": [
    "#Processing of ProductId\n",
    "#Sorting data according to ProductId in ascending order\n",
    "sorted_data=amz.sort_values('ProductId', axis=0, ascending=True, \n",
    "                            inplace=False, kind='quicksort', \n",
    "                            na_position='last')\n",
    "#sorted_data.head() # printing sorted data\n",
    "# To check the duplications in raw data\n",
    "dupli=sorted_data[sorted_data.duplicated([\"UserId\",\"ProfileName\",\"Time\",\"Text\"])]\n",
    "print(dupli.head(2))\n",
    "# Remove Deduplication of entries\n",
    "final=sorted_data.drop_duplicates(subset={\"UserId\",\"ProfileName\",\"Time\",\"Text\"}, keep='first', inplace=False)\n",
    "final.shape\n",
    "#Checking to see how much % of data still remains\n",
    "(final['Id'].size*1.0)/(amz['Id'].size*1.0)*100\n",
    "final=final[final.HelpfulnessNumerator<=final.HelpfulnessDenominator]\n",
    "#Before starting the next phase of preprocessing lets see the number of entries left\n",
    "print(final.shape)\n",
    "\n"
   ]
  },
  {
   "cell_type": "code",
   "execution_count": 0,
   "metadata": {
    "colab": {},
    "colab_type": "code",
    "id": "84HyT2h0EtXb"
   },
   "outputs": [],
   "source": [
    "final = final[final['ProductId'] != '7310172001']\n"
   ]
  },
  {
   "cell_type": "markdown",
   "metadata": {
    "colab_type": "text",
    "id": "AkGu4PqPCELC"
   },
   "source": [
    "# Text Preprocessing:"
   ]
  },
  {
   "cell_type": "code",
   "execution_count": 0,
   "metadata": {
    "colab": {
     "base_uri": "https://localhost:8080/",
     "height": 69
    },
    "colab_type": "code",
    "executionInfo": {
     "elapsed": 1004,
     "status": "ok",
     "timestamp": 1549342384896,
     "user": {
      "displayName": "Priya G",
      "photoUrl": "https://lh5.googleusercontent.com/-ulFA1q-SBEw/AAAAAAAAAAI/AAAAAAAAAaU/81PbAjtRvqw/s64/photo.jpg",
      "userId": "05458747731883366595"
     },
     "user_tz": -330
    },
    "id": "cf7t2gnQCFWm",
    "outputId": "20e40c68-5881-41f7-9b23-5eddfce1eff7"
   },
   "outputs": [
    {
     "name": "stdout",
     "output_type": "stream",
     "text": [
      "[nltk_data] Downloading package stopwords to /root/nltk_data...\n",
      "[nltk_data]   Unzipping corpora/stopwords.zip.\n"
     ]
    },
    {
     "data": {
      "text/plain": [
       "True"
      ]
     },
     "execution_count": 14,
     "metadata": {
      "tags": []
     },
     "output_type": "execute_result"
    }
   ],
   "source": [
    "import nltk\n",
    "nltk.download('stopwords')"
   ]
  },
  {
   "cell_type": "code",
   "execution_count": 0,
   "metadata": {
    "colab": {},
    "colab_type": "code",
    "id": "Wo2fCF-sCMcT"
   },
   "outputs": [],
   "source": [
    " \n",
    "stop = set(stopwords.words('english')) #set of stopwords\n",
    "sno = nltk.stem.SnowballStemmer('english') #initialising the snowball stemmer\n",
    "\n",
    "def cleanhtml(sentence): #function to clean the word of any html-tags\n",
    "    cleanr = re.compile('<.*?>$< /><')\n",
    "    #cleanr = re.compile('<.*?>')\n",
    "    cleantext = re.sub(cleanr, ' ', sentence)\n",
    "    return cleantext\n",
    "def cleanpunc(sentence): #function to clean the word of any punctuation or special characters\n",
    "    cleaned = re.sub(r'[?|!|\\'|\"|#]',r'',sentence)\n",
    "    cleaned = re.sub(r'[.|,|)|(|\\|/]',r' ',cleaned)\n",
    "    return  cleaned\n"
   ]
  },
  {
   "cell_type": "code",
   "execution_count": 0,
   "metadata": {
    "colab": {},
    "colab_type": "code",
    "id": "65c4rkEfCSg2"
   },
   "outputs": [],
   "source": [
    "#Code for implementing step-by-step the checks mentioned in the pre-processing phase.\n",
    "\n",
    "'''Pre processing of text data:It is cleaning and flitering text'''\n",
    "i=0\n",
    "str1=' '\n",
    "global final_string\n",
    "final_string=[]\n",
    "all_positive_words=[] \n",
    "all_negative_words=[] \n",
    "s=''\n",
    "for sent in final['Text'].values:\n",
    "    filtered_sentence=[]\n",
    "    #print(sent);\n",
    "    sent=cleanhtml(sent) # remove HTMl tags\n",
    "    for w in sent.split():\n",
    "        for cleaned_words in cleanpunc(w).split():\n",
    "            if((cleaned_words.isalpha()) & (len(cleaned_words)>2)):    \n",
    "                if(cleaned_words.lower() not in stop):\n",
    "                    s=(sno.stem(cleaned_words.lower())).encode('utf8')\n",
    "                    filtered_sentence.append(s)\n",
    "                    if (final['Score'].values)[i] == 1: \n",
    "                        all_positive_words.append(s) #list of all words used to describe positive reviews\n",
    "                    if(final['Score'].values)[i] == 0:\n",
    "                        all_negative_words.append(s) #list of all words used to describe negative reviews reviews\n",
    "                else:\n",
    "                    continue\n",
    "            else:\n",
    "                continue \n",
    "    #print(filtered_sentence)\n",
    "    str1 = b\" \".join(filtered_sentence) #final string of cleaned words\n",
    "    #print(\"***********************************************************************\")\n",
    "\n",
    "    final_string.append(str1)\n",
    "    i+=1\n"
   ]
  },
  {
   "cell_type": "markdown",
   "metadata": {
    "colab_type": "text",
    "id": "aewFwSljCXks"
   },
   "source": [
    "##### Dumping and loading  Pre processing of text data in pickle file "
   ]
  },
  {
   "cell_type": "code",
   "execution_count": 0,
   "metadata": {
    "colab": {},
    "colab_type": "code",
    "id": "Nc_oxnJJCZk6"
   },
   "outputs": [],
   "source": [
    "pickle_path_final_string='final_string.pkl'\n",
    "final_string_file=open(pickle_path_final_string,'wb')\n",
    "pickle.dump(final_string,final_string_file)\n",
    "final_string_file.close()"
   ]
  },
  {
   "cell_type": "code",
   "execution_count": 0,
   "metadata": {
    "colab": {},
    "colab_type": "code",
    "id": "roORa0WECdpS"
   },
   "outputs": [],
   "source": [
    "pickle_path_final_string='final_string.pkl'\n",
    "final_string_unpkl=open(pickle_path_final_string,'rb')\n",
    "final_string=pickle.load(final_string_unpkl)"
   ]
  },
  {
   "cell_type": "code",
   "execution_count": 0,
   "metadata": {
    "colab": {
     "base_uri": "https://localhost:8080/",
     "height": 638
    },
    "colab_type": "code",
    "executionInfo": {
     "elapsed": 519178,
     "status": "ok",
     "timestamp": 1549342914602,
     "user": {
      "displayName": "Priya G",
      "photoUrl": "https://lh5.googleusercontent.com/-ulFA1q-SBEw/AAAAAAAAAAI/AAAAAAAAAaU/81PbAjtRvqw/s64/photo.jpg",
      "userId": "05458747731883366595"
     },
     "user_tz": -330
    },
    "id": "EOc94hS1HA1H",
    "outputId": "e905b9ee-380e-40ee-ab4d-f746d6e54bea"
   },
   "outputs": [
    {
     "name": "stdout",
     "output_type": "stream",
     "text": [
      "Shape of final (393761, 11)\n"
     ]
    },
    {
     "data": {
      "text/html": [
       "<div>\n",
       "<style scoped>\n",
       "    .dataframe tbody tr th:only-of-type {\n",
       "        vertical-align: middle;\n",
       "    }\n",
       "\n",
       "    .dataframe tbody tr th {\n",
       "        vertical-align: top;\n",
       "    }\n",
       "\n",
       "    .dataframe thead th {\n",
       "        text-align: right;\n",
       "    }\n",
       "</style>\n",
       "<table border=\"1\" class=\"dataframe\">\n",
       "  <thead>\n",
       "    <tr style=\"text-align: right;\">\n",
       "      <th></th>\n",
       "      <th>Id</th>\n",
       "      <th>ProductId</th>\n",
       "      <th>UserId</th>\n",
       "      <th>ProfileName</th>\n",
       "      <th>HelpfulnessNumerator</th>\n",
       "      <th>HelpfulnessDenominator</th>\n",
       "      <th>Score</th>\n",
       "      <th>Time</th>\n",
       "      <th>Summary</th>\n",
       "      <th>Text</th>\n",
       "      <th>CleanedText</th>\n",
       "    </tr>\n",
       "  </thead>\n",
       "  <tbody>\n",
       "    <tr>\n",
       "      <th>150528</th>\n",
       "      <td>150529</td>\n",
       "      <td>0006641040</td>\n",
       "      <td>A25ACLV5KPB4W</td>\n",
       "      <td>Matt Hetling \"Matt\"</td>\n",
       "      <td>0</td>\n",
       "      <td>1</td>\n",
       "      <td>1</td>\n",
       "      <td>1108425600</td>\n",
       "      <td>Nice cadence, catchy rhymes</td>\n",
       "      <td>In June&lt;br /&gt;I saw a charming group&lt;br /&gt;of ro...</td>\n",
       "      <td>saw charm rose pep chicken chicken great book ...</td>\n",
       "    </tr>\n",
       "    <tr>\n",
       "      <th>150506</th>\n",
       "      <td>150507</td>\n",
       "      <td>0006641040</td>\n",
       "      <td>A1S4A3IQ2MU7V4</td>\n",
       "      <td>sally sue \"sally sue\"</td>\n",
       "      <td>1</td>\n",
       "      <td>1</td>\n",
       "      <td>1</td>\n",
       "      <td>1191456000</td>\n",
       "      <td>chicken soup with rice months</td>\n",
       "      <td>This is a fun way for children to learn their ...</td>\n",
       "      <td>fun way children learn month year learn poem t...</td>\n",
       "    </tr>\n",
       "    <tr>\n",
       "      <th>150505</th>\n",
       "      <td>150506</td>\n",
       "      <td>0006641040</td>\n",
       "      <td>A2IW4PEEKO2R0U</td>\n",
       "      <td>Tracy</td>\n",
       "      <td>1</td>\n",
       "      <td>1</td>\n",
       "      <td>1</td>\n",
       "      <td>1194739200</td>\n",
       "      <td>Love the book, miss the hard cover version</td>\n",
       "      <td>I grew up reading these Sendak books, and watc...</td>\n",
       "      <td>grew read sendak book watch realli rosi movi i...</td>\n",
       "    </tr>\n",
       "    <tr>\n",
       "      <th>150504</th>\n",
       "      <td>150505</td>\n",
       "      <td>0006641040</td>\n",
       "      <td>A2PTSM496CF40Z</td>\n",
       "      <td>Jason A. Teeple \"Nobody made a greater mistak...</td>\n",
       "      <td>1</td>\n",
       "      <td>1</td>\n",
       "      <td>1</td>\n",
       "      <td>1210809600</td>\n",
       "      <td>A classic</td>\n",
       "      <td>Get the movie or sound track and sing along wi...</td>\n",
       "      <td>get movi sound track sing along carol king gre...</td>\n",
       "    </tr>\n",
       "    <tr>\n",
       "      <th>150503</th>\n",
       "      <td>150504</td>\n",
       "      <td>0006641040</td>\n",
       "      <td>AQEYF1AXARWJZ</td>\n",
       "      <td>Les Sinclair \"book maven\"</td>\n",
       "      <td>1</td>\n",
       "      <td>1</td>\n",
       "      <td>1</td>\n",
       "      <td>1212278400</td>\n",
       "      <td>Chicken Soup with Rice</td>\n",
       "      <td>A very entertaining rhyming story--cleaver and...</td>\n",
       "      <td>entertain rhyme catchi illustr imagin fit righ...</td>\n",
       "    </tr>\n",
       "  </tbody>\n",
       "</table>\n",
       "</div>"
      ],
      "text/plain": [
       "            Id   ProductId          UserId  \\\n",
       "150528  150529  0006641040   A25ACLV5KPB4W   \n",
       "150506  150507  0006641040  A1S4A3IQ2MU7V4   \n",
       "150505  150506  0006641040  A2IW4PEEKO2R0U   \n",
       "150504  150505  0006641040  A2PTSM496CF40Z   \n",
       "150503  150504  0006641040   AQEYF1AXARWJZ   \n",
       "\n",
       "                                             ProfileName  \\\n",
       "150528                               Matt Hetling \"Matt\"   \n",
       "150506                             sally sue \"sally sue\"   \n",
       "150505                                             Tracy   \n",
       "150504  Jason A. Teeple \"Nobody made a greater mistak...   \n",
       "150503                         Les Sinclair \"book maven\"   \n",
       "\n",
       "        HelpfulnessNumerator  HelpfulnessDenominator  Score        Time  \\\n",
       "150528                     0                       1      1  1108425600   \n",
       "150506                     1                       1      1  1191456000   \n",
       "150505                     1                       1      1  1194739200   \n",
       "150504                     1                       1      1  1210809600   \n",
       "150503                     1                       1      1  1212278400   \n",
       "\n",
       "                                           Summary  \\\n",
       "150528                 Nice cadence, catchy rhymes   \n",
       "150506               chicken soup with rice months   \n",
       "150505  Love the book, miss the hard cover version   \n",
       "150504                                   A classic   \n",
       "150503                      Chicken Soup with Rice   \n",
       "\n",
       "                                                     Text  \\\n",
       "150528  In June<br />I saw a charming group<br />of ro...   \n",
       "150506  This is a fun way for children to learn their ...   \n",
       "150505  I grew up reading these Sendak books, and watc...   \n",
       "150504  Get the movie or sound track and sing along wi...   \n",
       "150503  A very entertaining rhyming story--cleaver and...   \n",
       "\n",
       "                                              CleanedText  \n",
       "150528  saw charm rose pep chicken chicken great book ...  \n",
       "150506  fun way children learn month year learn poem t...  \n",
       "150505  grew read sendak book watch realli rosi movi i...  \n",
       "150504  get movi sound track sing along carol king gre...  \n",
       "150503  entertain rhyme catchi illustr imagin fit righ...  "
      ]
     },
     "execution_count": 19,
     "metadata": {
      "tags": []
     },
     "output_type": "execute_result"
    }
   ],
   "source": [
    "\n",
    "final['CleanedText']=final_string\n",
    "final['CleanedText']=final['CleanedText'].str.decode(\"utf-8\")\n",
    "#below the processed review can be seen in the CleanedText Column \n",
    "print('Shape of final',final.shape)\n",
    "final.head()\n"
   ]
  },
  {
   "cell_type": "markdown",
   "metadata": {
    "colab_type": "text",
    "id": "f9vz3JsRJnde"
   },
   "source": [
    "# Converting Reviews Data into IMDB Dataset"
   ]
  },
  {
   "cell_type": "code",
   "execution_count": 0,
   "metadata": {
    "colab": {
     "base_uri": "https://localhost:8080/",
     "height": 35
    },
    "colab_type": "code",
    "executionInfo": {
     "elapsed": 531088,
     "status": "ok",
     "timestamp": 1549342928364,
     "user": {
      "displayName": "Priya G",
      "photoUrl": "https://lh5.googleusercontent.com/-ulFA1q-SBEw/AAAAAAAAAAI/AAAAAAAAAaU/81PbAjtRvqw/s64/photo.jpg",
      "userId": "05458747731883366595"
     },
     "user_tz": -330
    },
    "id": "_GkOm1kLJV0a",
    "outputId": "f02fd8fd-b203-45b6-e37a-fa8cc658c107"
   },
   "outputs": [
    {
     "name": "stdout",
     "output_type": "stream",
     "text": [
      "No. of words in the Vocabulary :  73405\n"
     ]
    }
   ],
   "source": [
    "##Sorting data according to Time in ascending order\n",
    "## Time Based Splitting\n",
    "time_sorted_data = final.sort_values('Time', axis=0, \n",
    "                                     ascending=True, \n",
    "                                     inplace=False,\n",
    "                                     kind='quicksort', \n",
    "                                     na_position='last')\n",
    "\n",
    "x = time_sorted_data['CleanedText'].values\n",
    "y = time_sorted_data['Score']\n",
    "\n",
    "#  vocabulary of words using countvectorizer\n",
    "count_vect = CountVectorizer() \n",
    "count_vect.fit(x)\n",
    "\n",
    "vocabulary = count_vect.get_feature_names()\n",
    "print('No. of words in the Vocabulary : ',len(vocabulary))"
   ]
  },
  {
   "cell_type": "code",
   "execution_count": 0,
   "metadata": {
    "colab": {
     "base_uri": "https://localhost:8080/",
     "height": 35
    },
    "colab_type": "code",
    "executionInfo": {
     "elapsed": 541532,
     "status": "ok",
     "timestamp": 1549342939887,
     "user": {
      "displayName": "Priya G",
      "photoUrl": "https://lh5.googleusercontent.com/-ulFA1q-SBEw/AAAAAAAAAAI/AAAAAAAAAaU/81PbAjtRvqw/s64/photo.jpg",
      "userId": "05458747731883366595"
     },
     "user_tz": -330
    },
    "id": "Ii3J_lPJJ1QA",
    "outputId": "743133eb-f62d-4742-f729-a7e274673daa"
   },
   "outputs": [
    {
     "name": "stdout",
     "output_type": "stream",
     "text": [
      "done\n"
     ]
    }
   ],
   "source": [
    "# Storing words in vocabary \n",
    "word_dict=dict()\n",
    "index=0\n",
    "for words in x:\n",
    "  for word in words.split():\n",
    "    word_dict.setdefault(word,[])\n",
    "    word_dict[word].append(index)\n",
    "    index+=1\n",
    "\n",
    "    \n",
    "# Getting frequency for each word of vocabulary \n",
    "\n",
    "freq = []\n",
    "for w in vocabulary:\n",
    "  freq.append(len(word_dict[w]))\n",
    "    \n",
    "    \n",
    "print(\"done\")"
   ]
  },
  {
   "cell_type": "code",
   "execution_count": 0,
   "metadata": {
    "colab": {},
    "colab_type": "code",
    "id": "23dZAtBdE617"
   },
   "outputs": [],
   "source": [
    "# sort the frequency in decending order \n",
    "\n",
    "new_index=np.argsort(np.array(freq))[::-1]"
   ]
  },
  {
   "cell_type": "code",
   "execution_count": 0,
   "metadata": {
    "colab": {},
    "colab_type": "code",
    "id": "MxIqUjAdF43L"
   },
   "outputs": [],
   "source": [
    "# Allocate rank to freq in decending order\n",
    "word_rank=dict()\n",
    "rank=1\n",
    "for i in new_index:\n",
    "  word_rank[vocabulary[i]]=rank\n",
    "  rank+=1"
   ]
  },
  {
   "cell_type": "markdown",
   "metadata": {
    "colab_type": "text",
    "id": "9obM7Y_yGvaR"
   },
   "source": [
    "##### converting data into imdb format"
   ]
  },
  {
   "cell_type": "code",
   "execution_count": 0,
   "metadata": {
    "colab": {},
    "colab_type": "code",
    "id": "xfUYLbRjGfDg"
   },
   "outputs": [],
   "source": [
    "review_data=[]\n",
    "for sent in x:\n",
    "  row=[]\n",
    "  for word in sent.split():\n",
    "    if len(word)>1 :\n",
    "      row.append(word_rank[word])\n",
    "  review_data.append(row)"
   ]
  },
  {
   "cell_type": "code",
   "execution_count": 0,
   "metadata": {
    "colab": {},
    "colab_type": "code",
    "id": "WtJMmNKiH-S-"
   },
   "outputs": [],
   "source": [
    "# Splitting the data into 60-40 train_data and test_data\n",
    "from sklearn.model_selection import train_test_split \n",
    "X_train, X_test, Y_train, Y_test = train_test_split(review_data, y, \n",
    "                                                    test_size=0.5, \n",
    "                                                    random_state=42)"
   ]
  },
  {
   "cell_type": "code",
   "execution_count": 0,
   "metadata": {
    "colab": {
     "base_uri": "https://localhost:8080/",
     "height": 87
    },
    "colab_type": "code",
    "executionInfo": {
     "elapsed": 545983,
     "status": "ok",
     "timestamp": 1549342950308,
     "user": {
      "displayName": "Priya G",
      "photoUrl": "https://lh5.googleusercontent.com/-ulFA1q-SBEw/AAAAAAAAAAI/AAAAAAAAAaU/81PbAjtRvqw/s64/photo.jpg",
      "userId": "05458747731883366595"
     },
     "user_tz": -330
    },
    "id": "2uG_KcWaIKdu",
    "outputId": "46db6abf-b3a2-4195-cfd9-1ef90e9dfc58"
   },
   "outputs": [
    {
     "name": "stdout",
     "output_type": "stream",
     "text": [
      "length of X_train : 196880\n",
      "length of  X_test : 196881\n",
      "Shape of Y_train : (196880,)\n",
      "Shape of Y_test : (196881,)\n"
     ]
    }
   ],
   "source": [
    "print(\"length of X_train :\",len(X_train))\n",
    "print(\"length of  X_test :\",len(X_test))\n",
    "print(\"Shape of Y_train :\",Y_train.shape)\n",
    "print(\"Shape of Y_test :\",Y_test.shape)"
   ]
  },
  {
   "cell_type": "code",
   "execution_count": 0,
   "metadata": {
    "colab": {
     "base_uri": "https://localhost:8080/",
     "height": 55
    },
    "colab_type": "code",
    "executionInfo": {
     "elapsed": 544624,
     "status": "ok",
     "timestamp": 1549342950309,
     "user": {
      "displayName": "Priya G",
      "photoUrl": "https://lh5.googleusercontent.com/-ulFA1q-SBEw/AAAAAAAAAAI/AAAAAAAAAaU/81PbAjtRvqw/s64/photo.jpg",
      "userId": "05458747731883366595"
     },
     "user_tz": -330
    },
    "id": "KkzGAF8bIgnk",
    "outputId": "70f17e9f-04ba-43ca-d96b-1011c6ad2e6d"
   },
   "outputs": [
    {
     "name": "stdout",
     "output_type": "stream",
     "text": [
      "[13351, 27, 1106, 14, 379, 2444, 3182, 13972, 1142, 1241, 545, 109, 3845, 7102, 860, 800, 10363, 1852, 11939, 8, 174, 780, 1106, 1082, 2807, 1211, 1106, 1429, 1860, 379, 79, 263, 13972, 1438, 1699]\n"
     ]
    }
   ],
   "source": [
    "print( review_data[0])"
   ]
  },
  {
   "cell_type": "code",
   "execution_count": 0,
   "metadata": {
    "colab": {
     "base_uri": "https://localhost:8080/",
     "height": 225
    },
    "colab_type": "code",
    "executionInfo": {
     "elapsed": 546309,
     "status": "ok",
     "timestamp": 1549342953226,
     "user": {
      "displayName": "Priya G",
      "photoUrl": "https://lh5.googleusercontent.com/-ulFA1q-SBEw/AAAAAAAAAAI/AAAAAAAAAaU/81PbAjtRvqw/s64/photo.jpg",
      "userId": "05458747731883366595"
     },
     "user_tz": -330
    },
    "id": "ZzF1i8SQIoHe",
    "outputId": "a5b4364b-8323-4292-e747-e605cd60434f"
   },
   "outputs": [
    {
     "name": "stdout",
     "output_type": "stream",
     "text": [
      "(196880, 120)\n",
      "[    0     0     0     0     0     0     0     0     0     0     0     0\n",
      "     0     0     0     0     0     0     0     0     0     0     0     0\n",
      "     0     0     0     0     0     0     0     0     0     0     0     0\n",
      "     0     0     0     0     0     0     0     0     0     0     0     0\n",
      "     0     0     0     0     0     0     0     0     0     0     0     0\n",
      "     0     0     0     0     0     0     0     0     0     0     0     0\n",
      "     0     0     0     0     0     0     0     0     0     0     0    37\n",
      "   293  1255  2912   478    29    41    26   639  2978   412  3887   919\n",
      "  1305  1753    87   287   378   328   582   172   419   326   117    41\n",
      "  2610   410  1399   826   631   113  1386  1014 10807   478    62    50]\n",
      "(196881, 120)\n"
     ]
    }
   ],
   "source": [
    "\n",
    "# truncate and/or pad input sequences\n",
    "max_review_length = 120\n",
    "X_train = sequence.pad_sequences(X_train, maxlen=max_review_length)\n",
    "X_test = sequence.pad_sequences(X_test, maxlen=max_review_length)\n",
    "\n",
    "print(X_train.shape)\n",
    "print(X_train[1])\n",
    "print(X_test.shape)"
   ]
  },
  {
   "cell_type": "code",
   "execution_count": 0,
   "metadata": {
    "colab": {
     "base_uri": "https://localhost:8080/",
     "height": 35
    },
    "colab_type": "code",
    "executionInfo": {
     "elapsed": 544192,
     "status": "ok",
     "timestamp": 1549342953228,
     "user": {
      "displayName": "Priya G",
      "photoUrl": "https://lh5.googleusercontent.com/-ulFA1q-SBEw/AAAAAAAAAAI/AAAAAAAAAaU/81PbAjtRvqw/s64/photo.jpg",
      "userId": "05458747731883366595"
     },
     "user_tz": -330
    },
    "id": "01yaB6satHZV",
    "outputId": "d0d29f89-8dfb-414a-86b5-7c4557a081ed"
   },
   "outputs": [
    {
     "name": "stdout",
     "output_type": "stream",
     "text": [
      "73406\n"
     ]
    }
   ],
   "source": [
    "len_voc=len(vocabulary)+1\n",
    "print(len_voc)"
   ]
  },
  {
   "cell_type": "markdown",
   "metadata": {
    "colab_type": "text",
    "id": "PyqE31zx14Xa"
   },
   "source": [
    "# 1 RNN with 1 LSTM layer"
   ]
  },
  {
   "cell_type": "code",
   "execution_count": 0,
   "metadata": {
    "colab": {
     "base_uri": "https://localhost:8080/",
     "height": 1027
    },
    "colab_type": "code",
    "executionInfo": {
     "elapsed": 5275453,
     "status": "ok",
     "timestamp": 1549176514790,
     "user": {
      "displayName": "Priya G",
      "photoUrl": "https://lh5.googleusercontent.com/-ulFA1q-SBEw/AAAAAAAAAAI/AAAAAAAAAaU/81PbAjtRvqw/s64/photo.jpg",
      "userId": "05458747731883366595"
     },
     "user_tz": -330
    },
    "id": "RgADMQF-JGrV",
    "outputId": "4bbed31b-91a4-4763-da0b-4a7bcba2eeb9"
   },
   "outputs": [
    {
     "name": "stdout",
     "output_type": "stream",
     "text": [
      "_________________________________________________________________\n",
      "Layer (type)                 Output Shape              Param #   \n",
      "=================================================================\n",
      "embedding_2 (Embedding)      (None, 120, 32)           2348992   \n",
      "_________________________________________________________________\n",
      "dropout_2 (Dropout)          (None, 120, 32)           0         \n",
      "_________________________________________________________________\n",
      "lstm_2 (LSTM)                (None, 100)               53200     \n",
      "_________________________________________________________________\n",
      "dropout_3 (Dropout)          (None, 100)               0         \n",
      "_________________________________________________________________\n",
      "dense_2 (Dense)              (None, 1)                 101       \n",
      "=================================================================\n",
      "Total params: 2,402,293\n",
      "Trainable params: 2,402,293\n",
      "Non-trainable params: 0\n",
      "_________________________________________________________________\n",
      "None\n",
      "Train on 196880 samples, validate on 196881 samples\n",
      "Epoch 1/10\n",
      "196880/196880 [==============================] - 518s 3ms/step - loss: 0.2768 - acc: 0.8921 - val_loss: 0.2240 - val_acc: 0.9087\n",
      "Epoch 2/10\n",
      "196880/196880 [==============================] - 514s 3ms/step - loss: 0.2053 - acc: 0.9167 - val_loss: 0.2170 - val_acc: 0.9118\n",
      "Epoch 3/10\n",
      "196880/196880 [==============================] - 514s 3ms/step - loss: 0.1906 - acc: 0.9228 - val_loss: 0.2179 - val_acc: 0.9115\n",
      "Epoch 4/10\n",
      "196880/196880 [==============================] - 514s 3ms/step - loss: 0.1791 - acc: 0.9273 - val_loss: 0.2237 - val_acc: 0.9081\n",
      "Epoch 5/10\n",
      "196880/196880 [==============================] - 513s 3ms/step - loss: 0.1680 - acc: 0.9320 - val_loss: 0.2284 - val_acc: 0.9097\n",
      "Epoch 6/10\n",
      "196880/196880 [==============================] - 514s 3ms/step - loss: 0.1575 - acc: 0.9369 - val_loss: 0.2372 - val_acc: 0.9095\n",
      "Epoch 7/10\n",
      "196880/196880 [==============================] - 515s 3ms/step - loss: 0.1467 - acc: 0.9412 - val_loss: 0.2480 - val_acc: 0.9067\n",
      "Epoch 8/10\n",
      "196880/196880 [==============================] - 513s 3ms/step - loss: 0.1377 - acc: 0.9453 - val_loss: 0.2476 - val_acc: 0.9046\n",
      "Epoch 9/10\n",
      "196880/196880 [==============================] - 513s 3ms/step - loss: 0.1293 - acc: 0.9487 - val_loss: 0.2737 - val_acc: 0.9039\n",
      "Epoch 10/10\n",
      "196880/196880 [==============================] - 513s 3ms/step - loss: 0.1226 - acc: 0.9516 - val_loss: 0.2672 - val_acc: 0.9036\n",
      "test score : 0.26717215862544025\n",
      "test Accuracy : 0.9035559551207034\n"
     ]
    },
    {
     "data": {
      "image/png": "[encoded data removed]",
      "text/plain": [
       "<Figure size 432x288 with 1 Axes>"
      ]
     },
     "metadata": {
      "tags": []
     },
     "output_type": "display_data"
    },
    {
     "name": "stdout",
     "output_type": "stream",
     "text": [
      "Time taken to run this cell : 1:27:53.818856\n"
     ]
    }
   ],
   "source": [
    "start = datetime.now()\n",
    "embedding_len=32\n",
    "lstm_1=Sequential()\n",
    "lstm_1.add(Embedding(len_voc,\n",
    "                      embedding_len,\n",
    "                      input_length=max_review_length))\n",
    "\n",
    "lstm_1.add(Dropout(0.15))\n",
    "\n",
    "lstm_1.add(LSTM(100))# Adding first LSTM layer\n",
    "\n",
    "\n",
    "lstm_1.add(Dropout(0.25))# Adding Dropout\n",
    "\n",
    "\n",
    "lstm_1.add(Dense(1, activation='sigmoid'))# Adding output layer\n",
    "\n",
    "# Printing the model summary\n",
    "print(lstm_1.summary())\n",
    "\n",
    "# Compiling the model\n",
    "lstm_1.compile(loss='binary_crossentropy',\n",
    "                optimizer='adam',\n",
    "                metrics=['accuracy'])\n",
    "\n",
    "# Fitting the data to the model\n",
    "history_1 = lstm_1.fit(X_train, Y_train, nb_epoch=10,\n",
    "                        batch_size=512 ,verbose=1,\n",
    "                       validation_data=(X_test, Y_test))\n",
    "#evaluating model\n",
    "score=lstm_1.evaluate(X_test,Y_test,verbose=0)\n",
    "test_score_lstm_1=score[0]\n",
    "test_accuracy_lstm_1=score[1]\n",
    "train_accuracy_lstm_1=max(history_1.history['acc'])\n",
    "print('test score :',test_score_lstm_1)\n",
    "print('test Accuracy :',test_accuracy_lstm_1)\n",
    "\n",
    "# error plot\n",
    "x=list(range(1,11))\n",
    "vy=history_1.history['val_loss'] #validation loss\n",
    "ty=history_1.history['loss'] # train loss\n",
    "plt_dynamic(x, vy, ty)\n",
    "\n",
    "runtime_lstm1=datetime.now() - start\n",
    "print(\"Time taken to run this cell :\", runtime_lstm1)"
   ]
  },
  {
   "cell_type": "markdown",
   "metadata": {
    "colab_type": "text",
    "id": "ZYiymzbgZFK_"
   },
   "source": [
    "#### Observation:\n",
    "* After looking at training and testing error plot, model can be diagonised as overfitting.\n",
    "* Traing error slopes down while validation error also slopes and hit at inflection point.\n",
    "* After the inflection point , validation loss slpoes continuously increasing. "
   ]
  },
  {
   "cell_type": "markdown",
   "metadata": {
    "colab_type": "text",
    "id": "t0mGwZ9N5CHL"
   },
   "source": [
    "# 2 RNN with 2 LSTM layer"
   ]
  },
  {
   "cell_type": "code",
   "execution_count": 0,
   "metadata": {
    "colab": {},
    "colab_type": "code",
    "id": "9KHhBt4pKS6k"
   },
   "outputs": [],
   "source": [
    "from keras.layers.normalization import BatchNormalization\n"
   ]
  },
  {
   "cell_type": "code",
   "execution_count": 0,
   "metadata": {
    "colab": {
     "base_uri": "https://localhost:8080/",
     "height": 742
    },
    "colab_type": "code",
    "executionInfo": {
     "elapsed": 8471966,
     "status": "ok",
     "timestamp": 1548786932252,
     "user": {
      "displayName": "Priya G",
      "photoUrl": "https://lh5.googleusercontent.com/-ulFA1q-SBEw/AAAAAAAAAAI/AAAAAAAAAaU/81PbAjtRvqw/s64/photo.jpg",
      "userId": "05458747731883366595"
     },
     "user_tz": -330
    },
    "id": "ByAqUivf3C6_",
    "outputId": "52460392-371e-4c34-c5b2-3107da5370b1"
   },
   "outputs": [
    {
     "name": "stdout",
     "output_type": "stream",
     "text": [
      "_________________________________________________________________\n",
      "Layer (type)                 Output Shape              Param #   \n",
      "=================================================================\n",
      "embedding_1 (Embedding)      (None, 120, 32)           2348992   \n",
      "_________________________________________________________________\n",
      "dropout_1 (Dropout)          (None, 120, 32)           0         \n",
      "_________________________________________________________________\n",
      "lstm_1 (LSTM)                (None, 120, 100)          53200     \n",
      "_________________________________________________________________\n",
      "batch_normalization_1 (Batch (None, 120, 100)          400       \n",
      "_________________________________________________________________\n",
      "lstm_2 (LSTM)                (None, 100)               80400     \n",
      "_________________________________________________________________\n",
      "dense_1 (Dense)              (None, 1)                 101       \n",
      "=================================================================\n",
      "Total params: 2,483,093\n",
      "Trainable params: 2,482,893\n",
      "Non-trainable params: 200\n",
      "_________________________________________________________________\n",
      "None\n",
      "Train on 196880 samples, validate on 196881 samples\n",
      "Epoch 1/10\n",
      "196880/196880 [==============================] - 1611s 8ms/step - loss: 0.2601 - acc: 0.8945 - val_loss: 0.2188 - val_acc: 0.9100\n",
      "Epoch 2/10\n",
      "196880/196880 [==============================] - 1596s 8ms/step - loss: 0.2043 - acc: 0.9166 - val_loss: 0.2135 - val_acc: 0.9126\n",
      "Epoch 3/10\n",
      "196880/196880 [==============================] - 1598s 8ms/step - loss: 0.1856 - acc: 0.9242 - val_loss: 0.2161 - val_acc: 0.9115\n",
      "Epoch 4/10\n",
      "196880/196880 [==============================] - 1599s 8ms/step - loss: 0.1699 - acc: 0.9311 - val_loss: 0.2251 - val_acc: 0.9111\n",
      "Epoch 5/10\n",
      "196880/196880 [==============================] - 1596s 8ms/step - loss: 0.1566 - acc: 0.9369 - val_loss: 0.2413 - val_acc: 0.9114\n",
      "Epoch 6/10\n",
      "196880/196880 [==============================] - 1600s 8ms/step - loss: 0.1450 - acc: 0.9415 - val_loss: 0.2553 - val_acc: 0.9096\n",
      "Epoch 7/10\n",
      "196880/196880 [==============================] - 1596s 8ms/step - loss: 0.1350 - acc: 0.9458 - val_loss: 0.2429 - val_acc: 0.9088\n",
      "Epoch 8/10\n",
      "196880/196880 [==============================] - 1598s 8ms/step - loss: 0.1261 - acc: 0.9495 - val_loss: 0.2651 - val_acc: 0.9091\n",
      "Epoch 9/10\n",
      "196880/196880 [==============================] - 1600s 8ms/step - loss: 0.1187 - acc: 0.9524 - val_loss: 0.2743 - val_acc: 0.9037\n",
      "Epoch 10/10\n",
      "196880/196880 [==============================] - 1599s 8ms/step - loss: 0.1116 - acc: 0.9550 - val_loss: 0.3064 - val_acc: 0.9087\n",
      "Time taken to run this cell : 4:26:38.657956\n"
     ]
    }
   ],
   "source": [
    "start = datetime.now()\n",
    "embedding_len=32\n",
    "lstm_2=Sequential()\n",
    "lstm_2.add(Embedding(len_voc,\n",
    "                      embedding_len,\n",
    "                      input_length=max_review_length))\n",
    "\n",
    "lstm_2.add(Dropout(0.15))\n",
    "\n",
    "\n",
    "lstm_2.add(LSTM(100,return_sequences=True,\n",
    "                dropout=0.15,\n",
    "                recurrent_dropout=0.25))# Adding first LSTM layer\n",
    "\n",
    "lstm_2.add(BatchNormalization())\n",
    "lstm_2.add(LSTM(100,\n",
    "                dropout=0.15,\n",
    "                recurrent_dropout=0.25))# Adding second LSTM layer\n",
    "\n",
    "\n",
    "\n",
    "#lstm_2.add(BatchNormalization())\n",
    "lstm_2.add(Dense(1, activation='sigmoid'))# Adding output layer\n",
    "\n",
    "# Printing the model summary\n",
    "print(lstm_2.summary())\n",
    "\n",
    "# Compiling the model\n",
    "lstm_2.compile(loss='binary_crossentropy',\n",
    "                optimizer='adam',\n",
    "                metrics=['accuracy'])\n",
    "\n",
    "# Fitting the data to the model\n",
    "history_2 = lstm_2.fit(X_train, Y_train, nb_epoch=10,\n",
    "                        batch_size=512 ,verbose=1,\n",
    "                        validation_data=(X_test, Y_test))\n",
    "runtime_lstm2=datetime.now() - start\n",
    "print(\"Time taken to run this cell :\", runtime_lstm2)"
   ]
  },
  {
   "cell_type": "code",
   "execution_count": 0,
   "metadata": {
    "colab": {},
    "colab_type": "code",
    "id": "_P9ONDLdLehB"
   },
   "outputs": [],
   "source": []
  },
  {
   "cell_type": "code",
   "execution_count": 0,
   "metadata": {
    "colab": {
     "base_uri": "https://localhost:8080/",
     "height": 313
    },
    "colab_type": "code",
    "executionInfo": {
     "elapsed": 439084,
     "status": "ok",
     "timestamp": 1548787977960,
     "user": {
      "displayName": "Priya G",
      "photoUrl": "https://lh5.googleusercontent.com/-ulFA1q-SBEw/AAAAAAAAAAI/AAAAAAAAAaU/81PbAjtRvqw/s64/photo.jpg",
      "userId": "05458747731883366595"
     },
     "user_tz": -330
    },
    "id": "cxGqxWuV9Y0b",
    "outputId": "4b2f45b2-2c6a-4d13-bb35-e98e290d971a"
   },
   "outputs": [
    {
     "name": "stdout",
     "output_type": "stream",
     "text": [
      "test score : 0.3063991781577867\n",
      "test Accuracy : 0.9087469080313448\n"
     ]
    },
    {
     "data": {
      "image/png": "[encoded data removed]",
      "text/plain": [
       "<Figure size 432x288 with 1 Axes>"
      ]
     },
     "metadata": {
      "tags": []
     },
     "output_type": "display_data"
    }
   ],
   "source": [
    "#evaluating model\n",
    "score=lstm_2.evaluate(X_test,Y_test,verbose=0)\n",
    "test_score_lstm_2=score[0]\n",
    "test_accuracy_lstm_2=score[1]\n",
    "train_accuracy_lstm_2=max(history_2.history['acc'])\n",
    "print('test score :',test_score_lstm_2)\n",
    "print('test Accuracy :',test_accuracy_lstm_2)\n",
    "# error plot\n",
    "x=list(range(1,11))\n",
    "vy=history_2.history['val_loss'] #validation loss\n",
    "ty=history_2.history['loss'] # train loss\n",
    "plt_dynamic(x, vy, ty)\n"
   ]
  },
  {
   "cell_type": "markdown",
   "metadata": {
    "colab_type": "text",
    "id": "piSxW5Pd9nIy"
   },
   "source": [
    "# 3 RNN with 4 LSTM layer"
   ]
  },
  {
   "cell_type": "code",
   "execution_count": 0,
   "metadata": {
    "colab": {
     "base_uri": "https://localhost:8080/",
     "height": 877
    },
    "colab_type": "code",
    "executionInfo": {
     "elapsed": 9221961,
     "status": "ok",
     "timestamp": 1548935839313,
     "user": {
      "displayName": "Priya G",
      "photoUrl": "https://lh5.googleusercontent.com/-ulFA1q-SBEw/AAAAAAAAAAI/AAAAAAAAAaU/81PbAjtRvqw/s64/photo.jpg",
      "userId": "05458747731883366595"
     },
     "user_tz": -330
    },
    "id": "ecbC03L29qMB",
    "outputId": "d7f1154d-a774-42a4-fb8c-93d231a83024"
   },
   "outputs": [
    {
     "name": "stdout",
     "output_type": "stream",
     "text": [
      "_________________________________________________________________\n",
      "Layer (type)                 Output Shape              Param #   \n",
      "=================================================================\n",
      "embedding_1 (Embedding)      (None, 120, 32)           2348992   \n",
      "_________________________________________________________________\n",
      "dropout_1 (Dropout)          (None, 120, 32)           0         \n",
      "_________________________________________________________________\n",
      "lstm_1 (LSTM)                (None, 120, 100)          53200     \n",
      "_________________________________________________________________\n",
      "lstm_2 (LSTM)                (None, 120, 80)           57920     \n",
      "_________________________________________________________________\n",
      "batch_normalization_1 (Batch (None, 120, 80)           320       \n",
      "_________________________________________________________________\n",
      "lstm_3 (LSTM)                (None, 120, 50)           26200     \n",
      "_________________________________________________________________\n",
      "batch_normalization_2 (Batch (None, 120, 50)           200       \n",
      "_________________________________________________________________\n",
      "lstm_4 (LSTM)                (None, 40)                14560     \n",
      "_________________________________________________________________\n",
      "batch_normalization_3 (Batch (None, 40)                160       \n",
      "_________________________________________________________________\n",
      "dense_1 (Dense)              (None, 1)                 41        \n",
      "=================================================================\n",
      "Total params: 2,501,593\n",
      "Trainable params: 2,501,253\n",
      "Non-trainable params: 340\n",
      "_________________________________________________________________\n",
      "None\n",
      "Train on 196880 samples, validate on 196881 samples\n",
      "Epoch 1/10\n",
      "196880/196880 [==============================] - 2089s 11ms/step - loss: 0.3766 - acc: 0.8375 - val_loss: 0.2369 - val_acc: 0.9066\n",
      "Epoch 2/10\n",
      "196880/196880 [==============================] - 2081s 11ms/step - loss: 0.2255 - acc: 0.9095 - val_loss: 0.2283 - val_acc: 0.9058\n",
      "Epoch 3/10\n",
      "196880/196880 [==============================] - 2087s 11ms/step - loss: 0.2071 - acc: 0.9165 - val_loss: 0.2195 - val_acc: 0.9096\n",
      "Epoch 4/10\n",
      "196880/196880 [==============================] - 2091s 11ms/step - loss: 0.1967 - acc: 0.9209 - val_loss: 0.2226 - val_acc: 0.9094\n",
      "Epoch 5/10\n",
      "196880/196880 [==============================] - 2090s 11ms/step - loss: 0.1843 - acc: 0.9261 - val_loss: 0.2223 - val_acc: 0.9107\n",
      "Epoch 6/10\n",
      "196880/196880 [==============================] - 2085s 11ms/step - loss: 0.1757 - acc: 0.9296 - val_loss: 0.2269 - val_acc: 0.9115\n",
      "Epoch 7/10\n",
      "196880/196880 [==============================] - 2080s 11ms/step - loss: 0.1677 - acc: 0.9328 - val_loss: 0.2349 - val_acc: 0.9041\n",
      "Epoch 8/10\n",
      "196880/196880 [==============================] - 2081s 11ms/step - loss: 0.1600 - acc: 0.9363 - val_loss: 0.2379 - val_acc: 0.9096\n",
      "Epoch 9/10\n",
      "196880/196880 [==============================] - 2082s 11ms/step - loss: 0.1525 - acc: 0.9392 - val_loss: 0.2378 - val_acc: 0.9086\n",
      "Epoch 10/10\n",
      "196880/196880 [==============================] - 2084s 11ms/step - loss: 0.1461 - acc: 0.9424 - val_loss: 0.2522 - val_acc: 0.9075\n",
      "Time taken to run this cell : 5:47:39.955757\n"
     ]
    }
   ],
   "source": [
    "start = datetime.now()\n",
    "embedding_len=32\n",
    "lstm_4=Sequential()\n",
    "lstm_4.add(Embedding(len_voc,\n",
    "                      embedding_len,\n",
    "                      input_length=max_review_length))\n",
    "\n",
    "lstm_4.add(Dropout(0.25))\n",
    "\n",
    "\n",
    "lstm_4.add(LSTM(100,return_sequences=True,\n",
    "                dropout=0.15,\n",
    "                recurrent_dropout=0.25))# Adding first LSTM layer\n",
    "lstm_4.add(LSTM(80,return_sequences=True,\n",
    "                dropout=0.15,\n",
    "                recurrent_dropout=0.25))# Adding second LSTM layer\n",
    "\n",
    "\n",
    "lstm_4.add(BatchNormalization())\n",
    "lstm_4.add(LSTM(50,return_sequences=True,\n",
    "                dropout=0.15,\n",
    "                recurrent_dropout=0.25))# Adding Third LSTM layer\n",
    "lstm_4.add(BatchNormalization())\n",
    "lstm_4.add(LSTM(40,\n",
    "                dropout=0.15))# Adding Fourth LSTM layer\n",
    "lstm_4.add(BatchNormalization())\n",
    "\n",
    "\n",
    "lstm_4.add(Dense(1, activation='sigmoid'))# Adding output layer\n",
    "\n",
    "# Printing the model summary\n",
    "print(lstm_4.summary())\n",
    "\n",
    "# Compiling the model\n",
    "lstm_4.compile(loss='binary_crossentropy',\n",
    "                optimizer='adam',\n",
    "                metrics=['accuracy'])\n",
    "\n",
    "# Fitting the data to the model\n",
    "history_4 = lstm_4.fit(X_train, Y_train, nb_epoch=10,\n",
    "                        batch_size=512 ,verbose=1,\n",
    "                        validation_data=(X_test, Y_test))\n",
    "runtime_lstm4=datetime.now() - start\n",
    "print(\"Time taken to run this cell :\", runtime_lstm4)"
   ]
  },
  {
   "cell_type": "code",
   "execution_count": 0,
   "metadata": {
    "colab": {
     "base_uri": "https://localhost:8080/",
     "height": 313
    },
    "colab_type": "code",
    "executionInfo": {
     "elapsed": 646216,
     "status": "ok",
     "timestamp": 1548937204761,
     "user": {
      "displayName": "Priya G",
      "photoUrl": "https://lh5.googleusercontent.com/-ulFA1q-SBEw/AAAAAAAAAAI/AAAAAAAAAaU/81PbAjtRvqw/s64/photo.jpg",
      "userId": "05458747731883366595"
     },
     "user_tz": -330
    },
    "id": "SV4ZObYBD1jB",
    "outputId": "65fcb971-019e-4244-f0e4-76614c20b264"
   },
   "outputs": [
    {
     "name": "stdout",
     "output_type": "stream",
     "text": [
      "test score : 0.2522423982056529\n",
      "test Accuracy : 0.9075177391425236\n"
     ]
    },
    {
     "data": {
      "image/png": "[encoded data removed]",
      "text/plain": [
       "<Figure size 432x288 with 1 Axes>"
      ]
     },
     "metadata": {
      "tags": []
     },
     "output_type": "display_data"
    }
   ],
   "source": [
    "#evaluating model\n",
    "score=lstm_4.evaluate(X_test,Y_test,verbose=0)\n",
    "test_score_lstm_4=score[0]\n",
    "test_accuracy_lstm_4=score[1]\n",
    "train_accuracy_lstm_4=max(history_4.history['acc'])\n",
    "print('test score :',test_score_lstm_4)\n",
    "print('test Accuracy :',test_accuracy_lstm_4)\n",
    "# error plot\n",
    "x=list(range(1,11))\n",
    "vy=history_4.history['val_loss'] #validation loss\n",
    "ty=history_4.history['loss'] # train loss\n",
    "plt_dynamic(x, vy, ty)\n"
   ]
  },
  {
   "cell_type": "markdown",
   "metadata": {
    "colab_type": "text",
    "id": "EygrVt9sEJCa"
   },
   "source": [
    "# 4 RNN with 5 LSTM layer"
   ]
  },
  {
   "cell_type": "code",
   "execution_count": 0,
   "metadata": {
    "colab": {
     "base_uri": "https://localhost:8080/",
     "height": 1445
    },
    "colab_type": "code",
    "executionInfo": {
     "elapsed": 16114780,
     "status": "ok",
     "timestamp": 1549375518614,
     "user": {
      "displayName": "Priya G",
      "photoUrl": "https://lh5.googleusercontent.com/-ulFA1q-SBEw/AAAAAAAAAAI/AAAAAAAAAaU/81PbAjtRvqw/s64/photo.jpg",
      "userId": "05458747731883366595"
     },
     "user_tz": -330
    },
    "id": "X_RhN20O4hfv",
    "outputId": "1aca2e70-f5b4-44c7-ea17-a3e103fa456a"
   },
   "outputs": [
    {
     "name": "stdout",
     "output_type": "stream",
     "text": [
      "WARNING:tensorflow:From /usr/local/lib/python3.6/dist-packages/tensorflow/python/framework/op_def_library.py:263: colocate_with (from tensorflow.python.framework.ops) is deprecated and will be removed in a future version.\n",
      "Instructions for updating:\n",
      "Colocations handled automatically by placer.\n",
      "WARNING:tensorflow:From /usr/local/lib/python3.6/dist-packages/keras/backend/tensorflow_backend.py:3445: calling dropout (from tensorflow.python.ops.nn_ops) with keep_prob is deprecated and will be removed in a future version.\n",
      "Instructions for updating:\n",
      "Please use `rate` instead of `keep_prob`. Rate should be set to `rate = 1 - keep_prob`.\n",
      "_________________________________________________________________\n",
      "Layer (type)                 Output Shape              Param #   \n",
      "=================================================================\n",
      "embedding_1 (Embedding)      (None, 120, 32)           2348992   \n",
      "_________________________________________________________________\n",
      "dropout_1 (Dropout)          (None, 120, 32)           0         \n",
      "_________________________________________________________________\n",
      "lstm_1 (LSTM)                (None, 120, 120)          73440     \n",
      "_________________________________________________________________\n",
      "lstm_2 (LSTM)                (None, 120, 100)          88400     \n",
      "_________________________________________________________________\n",
      "batch_normalization_1 (Batch (None, 120, 100)          400       \n",
      "_________________________________________________________________\n",
      "lstm_3 (LSTM)                (None, 120, 100)          80400     \n",
      "_________________________________________________________________\n",
      "batch_normalization_2 (Batch (None, 120, 100)          400       \n",
      "_________________________________________________________________\n",
      "lstm_4 (LSTM)                (None, 120, 80)           57920     \n",
      "_________________________________________________________________\n",
      "batch_normalization_3 (Batch (None, 120, 80)           320       \n",
      "_________________________________________________________________\n",
      "lstm_5 (LSTM)                (None, 60)                33840     \n",
      "_________________________________________________________________\n",
      "batch_normalization_4 (Batch (None, 60)                240       \n",
      "_________________________________________________________________\n",
      "dense_1 (Dense)              (None, 1)                 61        \n",
      "=================================================================\n",
      "Total params: 2,684,413\n",
      "Trainable params: 2,683,733\n",
      "Non-trainable params: 680\n",
      "_________________________________________________________________\n",
      "None\n",
      "WARNING:tensorflow:From /usr/local/lib/python3.6/dist-packages/tensorflow/python/ops/math_ops.py:3066: to_int32 (from tensorflow.python.ops.math_ops) is deprecated and will be removed in a future version.\n",
      "Instructions for updating:\n",
      "Use tf.cast instead.\n",
      "Train on 196880 samples, validate on 196881 samples\n",
      "Epoch 1/10\n",
      "196880/196880 [==============================] - 3164s 16ms/step - loss: 0.4910 - acc: 0.8030 - val_loss: 0.4144 - val_acc: 0.8547\n",
      "Epoch 2/10\n",
      "196880/196880 [==============================] - 3130s 16ms/step - loss: 0.4248 - acc: 0.8552 - val_loss: 0.4166 - val_acc: 0.8547\n",
      "Epoch 3/10\n",
      "196880/196880 [==============================] - 3172s 16ms/step - loss: 0.4192 - acc: 0.8553 - val_loss: 0.4237 - val_acc: 0.8547\n",
      "Epoch 4/10\n",
      "196880/196880 [==============================] - 3161s 16ms/step - loss: 0.3334 - acc: 0.8690 - val_loss: 0.2458 - val_acc: 0.8992\n",
      "Epoch 5/10\n",
      "196880/196880 [==============================] - 3140s 16ms/step - loss: 0.2501 - acc: 0.8991 - val_loss: 0.2314 - val_acc: 0.9070\n",
      "Epoch 6/10\n",
      "196880/196880 [==============================] - 3148s 16ms/step - loss: 0.2285 - acc: 0.9081 - val_loss: 0.2320 - val_acc: 0.9095\n",
      "Epoch 7/10\n",
      "196880/196880 [==============================] - 3145s 16ms/step - loss: 0.2169 - acc: 0.9122 - val_loss: 0.2226 - val_acc: 0.9090\n",
      "Epoch 8/10\n",
      "196880/196880 [==============================] - 3144s 16ms/step - loss: 0.2092 - acc: 0.9161 - val_loss: 0.2308 - val_acc: 0.9100\n",
      "Epoch 9/10\n",
      "196880/196880 [==============================] - 3182s 16ms/step - loss: 0.2053 - acc: 0.9176 - val_loss: 0.2244 - val_acc: 0.9104\n",
      "Epoch 10/10\n",
      "196880/196880 [==============================] - 3178s 16ms/step - loss: 0.1990 - acc: 0.9202 - val_loss: 0.2235 - val_acc: 0.9110\n",
      "Train Accuracy 0.9202356765784659\n",
      "test score : 0.2235467241037283\n",
      "test Accuracy : 0.9109716021359054\n"
     ]
    },
    {
     "data": {
      "image/png": "[encoded data removed]",
      "text/plain": [
       "<Figure size 432x288 with 1 Axes>"
      ]
     },
     "metadata": {
      "tags": []
     },
     "output_type": "display_data"
    },
    {
     "name": "stdout",
     "output_type": "stream",
     "text": [
      "Time taken to run this cell : 9:02:45.687949\n"
     ]
    }
   ],
   "source": [
    "start = datetime.now()\n",
    "embedding_len=32\n",
    "lstm_5=Sequential()\n",
    "lstm_5.add(Embedding(len_voc,\n",
    "                      embedding_len,\n",
    "                      input_length=max_review_length))\n",
    "\n",
    "lstm_5.add(Dropout(0.45))\n",
    "\n",
    "lstm_5.add(LSTM(120,return_sequences=True,\n",
    "                dropout=0.35,\n",
    "                recurrent_dropout=0.25))# Adding first LSTM layer\n",
    "lstm_5.add(LSTM(100,return_sequences=True,\n",
    "                dropout=0.35,\n",
    "                recurrent_dropout=0.35))# Adding second LSTM layer\n",
    "lstm_5.add(BatchNormalization())\n",
    "lstm_5.add(LSTM(100,return_sequences=True,\n",
    "                dropout=0.35,\n",
    "                recurrent_dropout=0.35))# Adding Third LSTM layer\n",
    "lstm_5.add(BatchNormalization())\n",
    "lstm_5.add(LSTM(80,return_sequences=True,\n",
    "                dropout=0.35,\n",
    "                recurrent_dropout=0.35))# Adding Fourth LSTM layer\n",
    "lstm_5.add(BatchNormalization())\n",
    "lstm_5.add(LSTM(60,dropout=0.35,\n",
    "                recurrent_dropout=0.35))# Adding Fifth LSTM layer\n",
    "lstm_5.add(BatchNormalization())\n",
    "lstm_5.add(Dense(1, activation='sigmoid'))# Adding output layer\n",
    "\n",
    "# Printing the model summary\n",
    "print(lstm_5.summary())\n",
    "\n",
    "# Compiling the model\n",
    "lstm_5.compile(loss='binary_crossentropy',\n",
    "                optimizer='adam',\n",
    "                metrics=['accuracy'])\n",
    "\n",
    "# Fitting the data to the model\n",
    "history_5 = lstm_5.fit(X_train, Y_train, nb_epoch=10,\n",
    "                        batch_size=512 ,verbose=1,\n",
    "                        validation_data=(X_test, Y_test))\n",
    "#evaluating model\n",
    "score=lstm_5.evaluate(X_test,Y_test,verbose=0)\n",
    "test_score_lstm_5=score[0]\n",
    "test_accuracy_lstm_5=score[1]\n",
    "train_accuracy_lstm_5=max(history_5.history['acc'])\n",
    "print(\"Train Accuracy\",train_accuracy_lstm_5)\n",
    "print('test score :',test_score_lstm_5)\n",
    "print('test Accuracy :',test_accuracy_lstm_5)\n",
    "# error plot\n",
    "x=list(range(1,11))\n",
    "vy=history_5.history['val_loss'] #validation loss\n",
    "ty=history_5.history['loss'] # train loss\n",
    "plt_dynamic(x, vy, ty)\n",
    "runtime_lstm5=datetime.now() - start\n",
    "print(\"Time taken to run this cell :\", runtime_lstm5)"
   ]
  },
  {
   "cell_type": "code",
   "execution_count": 0,
   "metadata": {
    "colab": {
     "base_uri": "https://localhost:8080/",
     "height": 55
    },
    "colab_type": "code",
    "executionInfo": {
     "elapsed": 673,
     "status": "ok",
     "timestamp": 1549375622375,
     "user": {
      "displayName": "Priya G",
      "photoUrl": "https://lh5.googleusercontent.com/-ulFA1q-SBEw/AAAAAAAAAAI/AAAAAAAAAaU/81PbAjtRvqw/s64/photo.jpg",
      "userId": "05458747731883366595"
     },
     "user_tz": -330
    },
    "id": "tL-Wx4irEuTK",
    "outputId": "ff6d62ac-9255-44f5-a5f5-793a1e0a0cdb"
   },
   "outputs": [
    {
     "name": "stdout",
     "output_type": "stream",
     "text": [
      "Train loss [0.49096747402106294, 0.4247921708370311, 0.4191692316861523, 0.33343958246519, 0.2501070746763699, 0.2285251474087435, 0.21694653656777207, 0.20923510087015956, 0.20528901007566835, 0.19897864129135445]\n"
     ]
    }
   ],
   "source": [
    "\n",
    "print('Train loss',ty)"
   ]
  },
  {
   "cell_type": "code",
   "execution_count": 0,
   "metadata": {
    "colab": {
     "base_uri": "https://localhost:8080/",
     "height": 35
    },
    "colab_type": "code",
    "executionInfo": {
     "elapsed": 833,
     "status": "ok",
     "timestamp": 1549375631461,
     "user": {
      "displayName": "Priya G",
      "photoUrl": "https://lh5.googleusercontent.com/-ulFA1q-SBEw/AAAAAAAAAAI/AAAAAAAAAaU/81PbAjtRvqw/s64/photo.jpg",
      "userId": "05458747731883366595"
     },
     "user_tz": -330
    },
    "id": "dI0YHQBCBxtJ",
    "outputId": "f1ce9243-2fb5-4682-e537-15b3b005d857"
   },
   "outputs": [
    {
     "name": "stdout",
     "output_type": "stream",
     "text": [
      "test score 0.2235467241037283\n"
     ]
    }
   ],
   "source": [
    "print('test score',test_score_lstm_5)"
   ]
  },
  {
   "cell_type": "markdown",
   "metadata": {
    "colab_type": "text",
    "id": "72nFyTasFAf2"
   },
   "source": [
    "# Observation"
   ]
  },
  {
   "cell_type": "code",
   "execution_count": 0,
   "metadata": {
    "colab": {
     "base_uri": "https://localhost:8080/",
     "height": 156
    },
    "colab_type": "code",
    "executionInfo": {
     "elapsed": 822,
     "status": "ok",
     "timestamp": 1549375952567,
     "user": {
      "displayName": "Priya G",
      "photoUrl": "https://lh5.googleusercontent.com/-ulFA1q-SBEw/AAAAAAAAAAI/AAAAAAAAAaU/81PbAjtRvqw/s64/photo.jpg",
      "userId": "05458747731883366595"
     },
     "user_tz": -330
    },
    "id": "mZVQ4MO_FBG7",
    "outputId": "5720d2af-2dc6-4467-af41-a00ce8be5266"
   },
   "outputs": [
    {
     "name": "stdout",
     "output_type": "stream",
     "text": [
      "+--------+-----------------------+-------------------+------------------+\n",
      "| INDEX. |       MODEL_NAME      | TRAINING ACCURACY | TESTING ACCURACY |\n",
      "+--------+-----------------------+-------------------+------------------+\n",
      "|   1    | RNN With 1 LSTM Layer |       0.9423      |      0.9035      |\n",
      "|   2    | RNN With 2 LSTM Layer |       0.9392      |      0.9087      |\n",
      "|   3    | RNN With 4 LSTM Layer |      0.936954     |      0.9075      |\n",
      "|   4    | RNN With 5 LSTM Layer |       0.9202      |      0.9108      |\n",
      "+--------+-----------------------+-------------------+------------------+\n"
     ]
    }
   ],
   "source": [
    "from prettytable import PrettyTable\n",
    "models=['RNN With 1 LSTM Layer',\n",
    "        'RNN With 2 LSTM Layer',\n",
    "        'RNN With 4 LSTM Layer',\n",
    "       'RNN With 5 LSTM Layer']\n",
    "training_accuracy=[train_accuracy_lstm_1,train_accuracy_lstm_2,\n",
    "                   train_accuracy_lstm_4,train_accuracy_lstm_5]\n",
    "test_accuracy=[test_accuracy_lstm_1,test_accuracy_lstm_2,\n",
    "               test_accuracy_lstm_4,test_accuracy_lstm_5]\n",
    "INDEX = [1,2,3,4]\n",
    "# Initializing prettytable\n",
    "Model_Performance = PrettyTable()\n",
    "# Adding columns\n",
    "Model_Performance.add_column(\"INDEX.\",INDEX)\n",
    "Model_Performance.add_column(\"MODEL_NAME\",models)\n",
    "Model_Performance.add_column(\"TRAINING ACCURACY\",training_accuracy)\n",
    "Model_Performance.add_column(\"TESTING ACCURACY\",test_accuracy)\n",
    "#Model_Performance.add_column(\"TEST SCORE\",test_score)\n",
    "\n",
    "# Printing the Model_Performance\n",
    "print(Model_Performance)"
   ]
  },
  {
   "cell_type": "code",
   "execution_count": 0,
   "metadata": {
    "colab": {},
    "colab_type": "code",
    "id": "GHCyuiMtAA0L"
   },
   "outputs": [],
   "source": []
  }
 ],
 "metadata": {
  "colab": {
   "collapsed_sections": [],
   "name": "Copy of Copy of Assignment-14: LSTM [M].ipynb",
   "provenance": [
    {
     "file_id": "1d3zZ3m6jyQzRqSeQ0ufaMFyOwfGRZuLf",
     "timestamp": 1548606707243
    },
    {
     "file_id": "1PSvmGBwW0QBvVzEzDe9JZsKlYrG2gLqh",
     "timestamp": 1548514070192
    }
   ],
   "version": "0.3.2"
  },
  "kernelspec": {
   "display_name": "Python 3",
   "language": "python",
   "name": "python3"
  },
  "language_info": {
   "codemirror_mode": {
    "name": "ipython",
    "version": 3
   },
   "file_extension": ".py",
   "mimetype": "text/x-python",
   "name": "python",
   "nbconvert_exporter": "python",
   "pygments_lexer": "ipython3",
   "version": "3.6.5"
  }
 },
 "nbformat": 4,
 "nbformat_minor": 1
}
